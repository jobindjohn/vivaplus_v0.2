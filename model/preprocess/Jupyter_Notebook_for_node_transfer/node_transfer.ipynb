{
 "cells": [
  {
   "cell_type": "markdown",
   "metadata": {},
   "source": [
    "# Notebook for transferring nodes\n",
    "\n",
    "This notebook is intended to transfer the nodes from the finite-element positioning simulation o obtain the positioned model for further uses. \n",
    "\n",
    "Requirements: Python Version >= 3.8\n",
    "\n",
    "How to use this notebook:\n",
    "1. Open your simulation result (d3plots) in LS-PrePost\n",
    "2. Export the new nodal coordinates of the last plot (Post -> Output)\n",
    "    - Activate entire model\n",
    "    - Activate nodal coordiantes\n",
    "    - Activate Append St No:\n",
    "    - Press Curr\n",
    "    - Press Write\n",
    "3. Name the exported file node.k\n",
    "4. Copy the file in the same folder as this notebook\n",
    "5. Run this notebook (Cell -> Run All)\n",
    "6. Replace the nodes of the non-positioned model (e.g. for 50F-standing)\n",
    "    - vivaplus_50F-standing_nodes.k nodes replaced with nodes of positioned_nodes.k file\n",
    "    - vivaplus-50F-standing_reference_points.k nodes replaced with nodes of ref_points.k file\n",
    "7. Now your positioned model should be ready to go\n",
    "\n",
    "\n",
    "\n",
    "Copyright (C) 2020                                                                            \n",
    "DI Christoph Leo                                                             \n",
    "DI Dr. Corina Klug                                                           \n",
    "                                                                           \n",
    "CONTACT:                                                                             \n",
    "Graz University of Technology                                                \n",
    "Vehicle Safety Institute                                                     \n",
    "Inffeldgasse 23 / I                                                          \n",
    "8010 Graz                                                                    \n",
    "email: christoph.leo@tugraz.at                                               \n",
    "       corina.klug@tugraz.at     "
   ]
  },
  {
   "cell_type": "code",
   "execution_count": 12,
   "metadata": {},
   "outputs": [],
   "source": [
    "import os\n",
    "import numpy as np\n",
    "import matplotlib.pyplot as plt\n",
    "import pandas as pd\n",
    "import linecache\n",
    "from glob import glob"
   ]
  },
  {
   "cell_type": "code",
   "execution_count": 13,
   "metadata": {},
   "outputs": [],
   "source": [
    "input_dir = os.getcwd()\n",
    "path_to_data = os.path.abspath(os.path.join(input_dir, \"..\\..\\common\"))"
   ]
  },
  {
   "cell_type": "code",
   "execution_count": 14,
   "metadata": {},
   "outputs": [],
   "source": [
    "def search_string_in_files(file_names, list_of_string):\n",
    "    line_numbers = []\n",
    "    id_list=[]\n",
    "    for file in file_names:\n",
    "\n",
    "        line_number = 0    \n",
    "        # Open the file in read only mode\n",
    "        with open(file, 'r') as read_obj:\n",
    "            # Read all lines in the file one by one\n",
    "            for line in read_obj:\n",
    "                line_number += 1\n",
    "                # For each line, check if line contains any string from the list of strings\n",
    "                for string_to_search in list_of_strings:\n",
    "                    if string_to_search in line:\n",
    "                    # If any string is found in line, then append that line along with line number in list\n",
    "                        line_numbers.append((file,line_number+2,string_to_search))\n",
    "                \n",
    "    # Return list of tuples containing matched string, line numbers and lines where string is found\n",
    "    return line_numbers"
   ]
  },
  {
   "cell_type": "code",
   "execution_count": 15,
   "metadata": {},
   "outputs": [],
   "source": [
    "EXT = \"*.k\"\n",
    "all_k_files = []\n",
    "for path, subdir, files in os.walk(path_to_data):\n",
    "    for file in glob(os.path.join(path, EXT)):\n",
    "        all_k_files.append(file)     "
   ]
  },
  {
   "cell_type": "code",
   "execution_count": 16,
   "metadata": {
    "scrolled": false
   },
   "outputs": [],
   "source": [
    "id_list=[]\n",
    "list_of_strings=['*CONSTRAINED_JOINT_SPHERICAL_ID','*CONSTRAINED_JOINT_REVOLUTE_ID']\n",
    "line_numbers=search_string_in_files(all_k_files,list_of_strings)\n",
    "line_numbers\n",
    "for line_number in line_numbers:\n",
    "    if '*CONSTRAINED_JOINT_SPHERICAL_ID' in line_number[2]:\n",
    "        line=linecache.getline(line_number[0],line_number[1]).rstrip()\n",
    "        id_list.append((line[3:10],line[13:20]))\n",
    "    else:\n",
    "        line=linecache.getline(line_number[0],line_number[1]).rstrip()\n",
    "        id_list.append((line[3:10],line[13:20]))\n",
    "        id_list.append((line[23:30],line[33:40]))"
   ]
  },
  {
   "cell_type": "code",
   "execution_count": 17,
   "metadata": {},
   "outputs": [
    {
     "name": "stderr",
     "output_type": "stream",
     "text": [
      "C:\\Users\\christoph_leo\\AppData\\Local\\Continuum\\anaconda3\\envs\\py38\\lib\\site-packages\\IPython\\core\\interactiveshell.py:3165: DtypeWarning: Columns (0) have mixed types.Specify dtype option on import or set low_memory=False.\n",
      "  has_raised = await self.run_ast_nodes(code_ast.body, cell_name,\n"
     ]
    }
   ],
   "source": [
    "df=pd.read_table(os.path.join(input_dir, \"node.k\"),sep='\\s+',skiprows=5,names=['id','x','y','z'])\n",
    "df=df.round(10)\n",
    "df=df[:-1].astype(str)\n",
    "\n"
   ]
  },
  {
   "cell_type": "code",
   "execution_count": 18,
   "metadata": {},
   "outputs": [],
   "source": [
    "for ids in id_list:\n",
    "    arr=df.loc[df['id'] == str(ids[0])].values\n",
    "    df.loc[df['id'] == str(ids[1]),('x','y','z')]=arr[0][1:]\n",
    "   \n",
    "\n",
    "df['id']=df['id'].astype(int)"
   ]
  },
  {
   "cell_type": "code",
   "execution_count": 21,
   "metadata": {},
   "outputs": [],
   "source": [
    "df['tc']=0\n",
    "df['rd']=0\n",
    "#df[(df['col1'] >= 1) & (df['col1'] <=1 )]\n",
    "df_standing_nodes=df[(df['id'] <= 7268359)]\n",
    "df_standing_nodes=pd.concat([df_standing_nodes,df[(df['id'] >= 9000010) & (df['id'] <= 9100019)]])\n",
    "with open('positioned_nodes.k', 'w') as f:\n",
    "    f.write('*KEYWORD\\n*NODE\\n')\n",
    "    df_standing_nodes.to_string(f, col_space=(8,15,15,15,7,7),index=False,header=False)\n",
    "    f.write('\\n*END')\n",
    "    f.close()\n",
    "    \n",
    "df_ref_points=df[(df['id'] >= 8110010) & (df['id'] <= 8983459)]\n",
    "with open('ref_points.k', 'w') as f:\n",
    "    f.write('*NODE\\n$#   nid               x               y               z      tc      rc\\n')\n",
    "    df_ref_points.to_string(f, col_space=(8,15,15,15,7,7),index=False,header=False)\n",
    "    f.write('\\n*END')\n",
    "    f.close()"
   ]
  }
 ],
 "metadata": {
  "kernelspec": {
   "display_name": "Python 3",
   "language": "python",
   "name": "python3"
  },
  "language_info": {
   "codemirror_mode": {
    "name": "ipython",
    "version": 3
   },
   "file_extension": ".py",
   "mimetype": "text/x-python",
   "name": "python",
   "nbconvert_exporter": "python",
   "pygments_lexer": "ipython3",
   "version": "3.8.8"
  }
 },
 "nbformat": 4,
 "nbformat_minor": 4
}
