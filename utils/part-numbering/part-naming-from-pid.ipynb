{
 "cells": [
  {
   "cell_type": "code",
   "execution_count": 35,
   "metadata": {},
   "outputs": [],
   "source": [
    "import numpy as np\n",
    "import pandas as pd\n",
    "import math\n",
    "import os"
   ]
  },
  {
   "cell_type": "code",
   "execution_count": 36,
   "metadata": {},
   "outputs": [],
   "source": [
    "cwd = os.getcwd()"
   ]
  },
  {
   "cell_type": "code",
   "execution_count": 58,
   "metadata": {},
   "outputs": [],
   "source": [
    "body_region = ''"
   ]
  },
  {
   "cell_type": "code",
   "execution_count": 59,
   "metadata": {},
   "outputs": [
    {
     "name": "stdout",
     "output_type": "stream",
     "text": [
      "No Body region specified\n"
     ]
    }
   ],
   "source": [
    "if body_region == 'NE':\n",
    "    body_region_dir = \"200000-neck\"\n",
    "elif body_region == 'UX' :\n",
    "    body_region_dir = '300000-UX'\n",
    "elif body_region == 'TX' :\n",
    "    body_region_dir = '400000-TX'\n",
    "elif body_region == 'AB' :\n",
    "    body_region_dir = '500000-AB'\n",
    "elif body_region == 'PE' :\n",
    "    body_region_dir = '600000-PE'\n",
    "elif body_region == 'LX' :\n",
    "    body_region_dir = '700000-LX'\n",
    "else :\n",
    "    print('No Body region specified')\n",
    "    "
   ]
  },
  {
   "cell_type": "code",
   "execution_count": 49,
   "metadata": {},
   "outputs": [],
   "source": [
    "# Path to the csv file\n",
    "body_region_dir=\"200000-neck\"\n",
    "part_group=\"201000-neck-vertebra\"\n",
    "path_to_csv = os.path.join(cwd, body_region_dir, part_group)"
   ]
  },
  {
   "cell_type": "code",
   "execution_count": 57,
   "metadata": {},
   "outputs": [
    {
     "data": {
      "text/plain": [
       "'400000-TX'"
      ]
     },
     "execution_count": 57,
     "metadata": {},
     "output_type": "execute_result"
    }
   ],
   "source": [
    "body_region_dir"
   ]
  },
  {
   "cell_type": "code",
   "execution_count": 42,
   "metadata": {},
   "outputs": [
    {
     "data": {
      "text/plain": [
       "'C:\\\\viva-plus\\\\assets\\\\part-numbering\\\\200000-neck\\\\200100-neck-C1-C2-joints'"
      ]
     },
     "execution_count": 42,
     "metadata": {},
     "output_type": "execute_result"
    }
   ],
   "source": [
    "path_to_csv"
   ]
  },
  {
   "cell_type": "code",
   "execution_count": 53,
   "metadata": {},
   "outputs": [],
   "source": [
    "# Read the csv file\n",
    "data = pd.read_csv(path_to_csv+\".csv\")\n",
    "#data = pd.read_csv(\"../part-numbering/600000-Pelvis/601000-Pelvis-Bones.csv\") \n",
    "num_of_rows=data.shape[0]"
   ]
  },
  {
   "cell_type": "code",
   "execution_count": 51,
   "metadata": {},
   "outputs": [
    {
     "data": {
      "text/html": [
       "<div>\n",
       "<style scoped>\n",
       "    .dataframe tbody tr th:only-of-type {\n",
       "        vertical-align: middle;\n",
       "    }\n",
       "\n",
       "    .dataframe tbody tr th {\n",
       "        vertical-align: top;\n",
       "    }\n",
       "\n",
       "    .dataframe thead th {\n",
       "        text-align: right;\n",
       "    }\n",
       "</style>\n",
       "<table border=\"1\" class=\"dataframe\">\n",
       "  <thead>\n",
       "    <tr style=\"text-align: right;\">\n",
       "      <th></th>\n",
       "      <th>Body Region</th>\n",
       "      <th>Sagittal Aspect</th>\n",
       "      <th>Component</th>\n",
       "      <th>Unnamed: 3</th>\n",
       "      <th>Unnamed: 4</th>\n",
       "      <th>Sub-Comp</th>\n",
       "      <th>Part Name</th>\n",
       "    </tr>\n",
       "  </thead>\n",
       "  <tbody>\n",
       "    <tr>\n",
       "      <th>0</th>\n",
       "      <td>2.0</td>\n",
       "      <td>NaN</td>\n",
       "      <td>NaN</td>\n",
       "      <td>NaN</td>\n",
       "      <td>NaN</td>\n",
       "      <td>NaN</td>\n",
       "      <td>NE</td>\n",
       "    </tr>\n",
       "    <tr>\n",
       "      <th>1</th>\n",
       "      <td>NaN</td>\n",
       "      <td>0.0</td>\n",
       "      <td>NaN</td>\n",
       "      <td>NaN</td>\n",
       "      <td>NaN</td>\n",
       "      <td>NaN</td>\n",
       "      <td>M</td>\n",
       "    </tr>\n",
       "    <tr>\n",
       "      <th>2</th>\n",
       "      <td>NaN</td>\n",
       "      <td>5.0</td>\n",
       "      <td>NaN</td>\n",
       "      <td>NaN</td>\n",
       "      <td>NaN</td>\n",
       "      <td>NaN</td>\n",
       "      <td>R</td>\n",
       "    </tr>\n",
       "    <tr>\n",
       "      <th>3</th>\n",
       "      <td>NaN</td>\n",
       "      <td>NaN</td>\n",
       "      <td>1.0</td>\n",
       "      <td>NaN</td>\n",
       "      <td>NaN</td>\n",
       "      <td>NaN</td>\n",
       "      <td>Vertebra</td>\n",
       "    </tr>\n",
       "    <tr>\n",
       "      <th>4</th>\n",
       "      <td>NaN</td>\n",
       "      <td>NaN</td>\n",
       "      <td>NaN</td>\n",
       "      <td>NaN</td>\n",
       "      <td>1.0</td>\n",
       "      <td>NaN</td>\n",
       "      <td>C1</td>\n",
       "    </tr>\n",
       "  </tbody>\n",
       "</table>\n",
       "</div>"
      ],
      "text/plain": [
       "   Body Region  Sagittal Aspect  Component  Unnamed: 3  Unnamed: 4  Sub-Comp  \\\n",
       "0          2.0              NaN        NaN         NaN         NaN       NaN   \n",
       "1          NaN              0.0        NaN         NaN         NaN       NaN   \n",
       "2          NaN              5.0        NaN         NaN         NaN       NaN   \n",
       "3          NaN              NaN        1.0         NaN         NaN       NaN   \n",
       "4          NaN              NaN        NaN         NaN         1.0       NaN   \n",
       "\n",
       "  Part Name  \n",
       "0        NE  \n",
       "1         M  \n",
       "2         R  \n",
       "3  Vertebra  \n",
       "4        C1  "
      ]
     },
     "execution_count": 51,
     "metadata": {},
     "output_type": "execute_result"
    }
   ],
   "source": [
    "# Check first few rows\n",
    "data.head()\n",
    "# Check the whole table\n",
    "# data"
   ]
  },
  {
   "cell_type": "code",
   "execution_count": 29,
   "metadata": {},
   "outputs": [],
   "source": [
    "pid = 0\n",
    "name = ''"
   ]
  },
  {
   "cell_type": "code",
   "execution_count": 30,
   "metadata": {},
   "outputs": [],
   "source": [
    "# FIXME: Error while opening some csv files\n",
    "# the type of for loop iter variable for PID (e.g. fi1) should be int,\n",
    "# sometimes ends up as string (for some CSV files. \n",
    "# The PID values are not computed then.\n",
    "# include type conversion?"
   ]
  },
  {
   "cell_type": "code",
   "execution_count": 34,
   "metadata": {},
   "outputs": [
    {
     "name": "stdout",
     "output_type": "stream",
     "text": [
      "{200110: 'NE-ligament-OC-ArticularProcess-cartilage-superior-L', 200210: 'NE-ligament-C1-ArticularProcess-cartilage-superior-L', 200310: 'NE-ligament-C2-ArticularProcess-cartilage-superior-L', 200120: 'NE-ligament-OC-ArticularProcess-cartilage-inferior-L', 200220: 'NE-ligament-C1-ArticularProcess-cartilage-inferior-L', 200320: 'NE-ligament-C2-ArticularProcess-cartilage-inferior-L', 200130: 'NE-ligament-OC-ArticularProcess-null-superior-L', 200230: 'NE-ligament-C1-ArticularProcess-null-superior-L', 200330: 'NE-ligament-C2-ArticularProcess-null-superior-L', 200140: 'NE-ligament-OC-ArticularProcess-null-inferior-L', 200240: 'NE-ligament-C1-ArticularProcess-null-inferior-L', 200340: 'NE-ligament-C2-ArticularProcess-null-inferior-L', 200150: 'NE-ligament-OC-nan-L', 200250: 'NE-ligament-C1-nan-L', 200350: 'NE-ligament-C2-nan-L', 200160: 'NE-ligament-OC-nan-L', 200260: 'NE-ligament-C1-nan-L', 200360: 'NE-ligament-C2-nan-L', 250110: 'NE-ligament-OC-ArticularProcess-cartilage-superior-R', 250210: 'NE-ligament-C1-ArticularProcess-cartilage-superior-R', 250310: 'NE-ligament-C2-ArticularProcess-cartilage-superior-R', 250120: 'NE-ligament-OC-ArticularProcess-cartilage-inferior-R', 250220: 'NE-ligament-C1-ArticularProcess-cartilage-inferior-R', 250320: 'NE-ligament-C2-ArticularProcess-cartilage-inferior-R', 250130: 'NE-ligament-OC-ArticularProcess-null-superior-R', 250230: 'NE-ligament-C1-ArticularProcess-null-superior-R', 250330: 'NE-ligament-C2-ArticularProcess-null-superior-R', 250140: 'NE-ligament-OC-ArticularProcess-null-inferior-R', 250240: 'NE-ligament-C1-ArticularProcess-null-inferior-R', 250340: 'NE-ligament-C2-ArticularProcess-null-inferior-R', 250150: 'NE-ligament-OC-nan-R', 250250: 'NE-ligament-C1-nan-R', 250350: 'NE-ligament-C2-nan-R', 250160: 'NE-ligament-OC-nan-R', 250260: 'NE-ligament-C1-nan-R', 250360: 'NE-ligament-C2-nan-R'}\n"
     ]
    }
   ],
   "source": [
    "dic = {}\n",
    "for n in range(num_of_rows):\n",
    "        if pd.notna(data.iloc[n,0]):\n",
    "            first = data.iloc[n,0]\n",
    "            body_region = str(data.iloc[n,6])\n",
    "            \n",
    "            second = []\n",
    "            third = []\n",
    "            fourth = []\n",
    "            fifth = []\n",
    "            sixth = []\n",
    "            \n",
    "            sagittal_aspect = []\n",
    "            third_name = []\n",
    "            fourth_name = []\n",
    "            fifth_name = []\n",
    "            sixth_name = []\n",
    "            continue\n",
    "            \n",
    "        if pd.notna(data.iloc[n,1]):\n",
    "            second.append(int(data.iloc[n,1]))\n",
    "            sagittal_aspect.append(str(data.iloc[n,6]))\n",
    "            #print(second,sagittal_aspect)\n",
    "            continue\n",
    "            \n",
    "        if pd.notna(data.iloc[n,2]):\n",
    "            third.append(int(data.iloc[n,2]))\n",
    "            #if pd.notna(data.iloc[n,6]):\n",
    "            third_name.append(str(data.iloc[n,6]))\n",
    "            continue\n",
    "            \n",
    "        if pd.notna(data.iloc[n,3]):\n",
    "            fourth.append(int(data.iloc[n,3]))\n",
    "            #if pd.notna(data.iloc[n,6]):\n",
    "            fourth_name.append(str(data.iloc[n,6]))\n",
    "            continue\n",
    "            \n",
    "        if pd.notna(data.iloc[n,4]):\n",
    "            fifth.append(int(data.iloc[n,4]))\n",
    "            #if pd.notna(data.iloc[n,6]):\n",
    "            fifth_name.append(str(data.iloc[n,6]))\n",
    "            continue\n",
    "            \n",
    "        if pd.notna(data.iloc[n,5]):\n",
    "            sixth.append(int(data.iloc[n,5]))\n",
    "            sixth_name.append(str(data.iloc[n,6]))\n",
    "            #print(sixth,sixth_name)\n",
    "            \n",
    "# Loop through the list to create PID and PID names\n",
    "# Takes the digits and corresponding names in the csv and writes them to a dictionary\n",
    "\n",
    "for s1,s2 in zip(second,sagittal_aspect):\n",
    "    for t1,t2 in zip(third,third_name):\n",
    "        for fi1,fi2 in zip(fifth,fifth_name):\n",
    "            # Check if the fourth place in the csv is empty\n",
    "            if fourth == []:\n",
    "                # Check if the sixth place in the csv is empty\n",
    "                if sixth == []:\n",
    "                    \n",
    "                    # print(s1,t1,fi1,s2,t2,fi2)\n",
    "                                #if math.isnan(si1):\n",
    "                                    #si1=0\n",
    "                \n",
    "                                #if math.isnan(f1):\n",
    "                    pid = int(first*10**5 + s1*10**4 + t1*10**3 + fi1*10)    \n",
    "                    name = body_region + '-' + str(t2) + '-' + str(fi2) + '-'  + str(s2)\n",
    "                    dic[pid]= name\n",
    "                                #else:\n",
    "                                   # pid = int(first*10**5 + s1*10**4 + t1*10**3 + f1*100 + fi1*10 +si1)    \n",
    "                                    #name = body_region + '-' + str(t2) + '-' + str(f2) + '-'+ str(fi2) + '-' + str(si2) + '-' + str(s2)\n",
    "                                   #dic[pid]= name\n",
    "                                    \n",
    "                # Actions if sixth place is not empty\n",
    "                else:\n",
    "                    for si1,si2 in zip(sixth,sixth_name):\n",
    "                        print(3)\n",
    "                        print(s1,t1,fi1,si1,s2,t2,fi2,si2)\n",
    "                        pid = int(first*10**5 + s1*10**4 + t1*10**3 + fi1*10 + si1)    \n",
    "                        name = body_region + '-' + str(t2) + '-' + str(fi2) + '-' + str(si2) + '-' + str(s2)\n",
    "                        dic[pid]= name\n",
    "            # Actions if the fourth place is not empty            \n",
    "            else:    \n",
    "                for f1,f2 in zip(fourth,fourth_name):\n",
    "                    # Check if the sixth place is empty\n",
    "                    if sixth == []:\n",
    "                    \n",
    "                        #print(s1,t1,f1,fi1,s2,t2,f2,fi2)\n",
    "                                #if math.isnan(si1):\n",
    "                                    #si1=0\n",
    "                \n",
    "                                #if math.isnan(f1):\n",
    "                        pid = int(first*10**5 + s1*10**4 + t1*10**3 + f1*100 + fi1*10)    \n",
    "                        name = body_region + '-' + str(t2) + '-' + str(f2) + '-' + str(fi2) + '-'  + str(s2)\n",
    "                        dic[pid]= name\n",
    "                                #else:\n",
    "                                   # pid = int(first*10**5 + s1*10**4 + t1*10**3 + f1*100 + fi1*10 +si1)    \n",
    "                                    #name = body_region + '-' + str(t2) + '-' + str(f2) + '-'+ str(fi2) + '-' + str(si2) + '-' + str(s2)\n",
    "                                   #dic[pid]= name\n",
    "                    else:\n",
    "                        for si1,si2 in zip(sixth,sixth_name):\n",
    "                            print(6)\n",
    "                            print(s1,t1,f1,fi1,si1,s2,t2,f2,fi2,si2)\n",
    "                            pid = int(first*10**5 + s1*10**4 + t1*10**3 + fi1*10 +si1)    \n",
    "                            name = body_region + '-' + str(t2) + '-' + str(f2) + '-' + str(fi2) + '-' + str(si2) + '-' + str(s2)\n",
    "                            dic[pid]= name\n",
    "                    \n",
    "                                    \n",
    "# print (dic)"
   ]
  },
  {
   "cell_type": "code",
   "execution_count": 32,
   "metadata": {},
   "outputs": [],
   "source": [
    "# Output the dictionary values to a csv\n",
    "(pd.DataFrame.from_dict(data=dic, orient='index')\n",
    "     .to_csv(csv_file+\"-PID-PIDName\" + \".csv\", header=False))"
   ]
  }
 ],
 "metadata": {
  "kernelspec": {
   "display_name": "Python 3",
   "language": "python",
   "name": "python3"
  },
  "language_info": {
   "codemirror_mode": {
    "name": "ipython",
    "version": 3
   },
   "file_extension": ".py",
   "mimetype": "text/x-python",
   "name": "python",
   "nbconvert_exporter": "python",
   "pygments_lexer": "ipython3",
   "version": "3.7.3"
  }
 },
 "nbformat": 4,
 "nbformat_minor": 4
}
